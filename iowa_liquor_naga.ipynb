{
 "cells": [
  {
   "cell_type": "markdown",
   "id": "28702c08-12a5-49f8-8f9b-f45f87d0ce8f",
   "metadata": {},
   "source": [
    "### Resource"
   ]
  },
  {
   "cell_type": "markdown",
   "id": "6dfe43c6-9faf-4786-9f12-ed58eeb94b76",
   "metadata": {},
   "source": [
    "- [google drive](https://drive.google.com/drive/u/1/folders/1N15PTA1y0ou5YyPDUN-MdlTGPXq3Rxhc)\n",
    "- [iowa liquor dataset](https://console.cloud.google.com/bigquery?authuser=1&invt=AbtrQg&project=solid-dominion-452916-p4&supportedpurview=project&ws=!1m5!1m4!4m3!1sbigquery-public-data!2siowa_liquor_sales!3ssales)"
   ]
  },
  {
   "cell_type": "markdown",
   "id": "a274af1e-9acf-4c88-9ab3-0d4cd3fba5b8",
   "metadata": {},
   "source": [
    "### Load Data"
   ]
  },
  {
   "cell_type": "code",
   "execution_count": 17,
   "id": "c96bf618-575c-4a87-855e-699c10d8fcfb",
   "metadata": {},
   "outputs": [
    {
     "name": "stdout",
     "output_type": "stream",
     "text": [
      "Downloading: 100%|\u001b[32m█████████████████████████████████████████████████████████████\u001b[0m|\u001b[0m\n"
     ]
    },
    {
     "data": {
      "text/html": [
       "<div>\n",
       "<style scoped>\n",
       "    .dataframe tbody tr th:only-of-type {\n",
       "        vertical-align: middle;\n",
       "    }\n",
       "\n",
       "    .dataframe tbody tr th {\n",
       "        vertical-align: top;\n",
       "    }\n",
       "\n",
       "    .dataframe thead th {\n",
       "        text-align: right;\n",
       "    }\n",
       "</style>\n",
       "<table border=\"1\" class=\"dataframe\">\n",
       "  <thead>\n",
       "    <tr style=\"text-align: right;\">\n",
       "      <th></th>\n",
       "      <th>date</th>\n",
       "      <th>store_name</th>\n",
       "      <th>city</th>\n",
       "      <th>county</th>\n",
       "      <th>item_description</th>\n",
       "      <th>sale_dollars</th>\n",
       "      <th>volume_sold_liters</th>\n",
       "    </tr>\n",
       "  </thead>\n",
       "  <tbody>\n",
       "    <tr>\n",
       "      <th>0</th>\n",
       "      <td>2024-05-22</td>\n",
       "      <td>CASEY'S GENERAL STORE #3439 / LIME SPRINGS</td>\n",
       "      <td>LIME SPRINGS</td>\n",
       "      <td>HOWARD</td>\n",
       "      <td>FIREBALL CINNAMON WHISKEY PARTY BUCKET</td>\n",
       "      <td>77.4</td>\n",
       "      <td>0.05</td>\n",
       "    </tr>\n",
       "    <tr>\n",
       "      <th>1</th>\n",
       "      <td>2024-11-19</td>\n",
       "      <td>CASEY'S #4539 / ROCK RAPIDS</td>\n",
       "      <td>ROCK RAPIDS</td>\n",
       "      <td>LYON</td>\n",
       "      <td>FIREBALL CINNAMON WHISKEY PARTY BUCKET</td>\n",
       "      <td>78.6</td>\n",
       "      <td>0.05</td>\n",
       "    </tr>\n",
       "    <tr>\n",
       "      <th>2</th>\n",
       "      <td>2024-12-10</td>\n",
       "      <td>CASEY'S GENERAL STORE #27  /  AUDUBO</td>\n",
       "      <td>AUDUBON</td>\n",
       "      <td>AUDUBON</td>\n",
       "      <td>FIREBALL CINNAMON WHISKEY PARTY BUCKET</td>\n",
       "      <td>78.6</td>\n",
       "      <td>0.05</td>\n",
       "    </tr>\n",
       "    <tr>\n",
       "      <th>3</th>\n",
       "      <td>2024-07-26</td>\n",
       "      <td>KIMMES MANSON COUNTRY STORE #10</td>\n",
       "      <td>MANSON</td>\n",
       "      <td>CALHOUN</td>\n",
       "      <td>99 PARTY BUCKET MINIS</td>\n",
       "      <td>77.4</td>\n",
       "      <td>0.05</td>\n",
       "    </tr>\n",
       "    <tr>\n",
       "      <th>4</th>\n",
       "      <td>2024-09-16</td>\n",
       "      <td>CASEY'S GENERAL STORE #40 / SCRANTON</td>\n",
       "      <td>SCRANTON</td>\n",
       "      <td>GREENE</td>\n",
       "      <td>FIREBALL CINNAMON WHISKEY ADULT TRICK OR TREAT...</td>\n",
       "      <td>78.6</td>\n",
       "      <td>0.05</td>\n",
       "    </tr>\n",
       "  </tbody>\n",
       "</table>\n",
       "</div>"
      ],
      "text/plain": [
       "         date                                  store_name          city  \\\n",
       "0  2024-05-22  CASEY'S GENERAL STORE #3439 / LIME SPRINGS  LIME SPRINGS   \n",
       "1  2024-11-19                 CASEY'S #4539 / ROCK RAPIDS   ROCK RAPIDS   \n",
       "2  2024-12-10        CASEY'S GENERAL STORE #27  /  AUDUBO       AUDUBON   \n",
       "3  2024-07-26             KIMMES MANSON COUNTRY STORE #10        MANSON   \n",
       "4  2024-09-16        CASEY'S GENERAL STORE #40 / SCRANTON      SCRANTON   \n",
       "\n",
       "    county                                   item_description  sale_dollars  \\\n",
       "0   HOWARD             FIREBALL CINNAMON WHISKEY PARTY BUCKET          77.4   \n",
       "1     LYON             FIREBALL CINNAMON WHISKEY PARTY BUCKET          78.6   \n",
       "2  AUDUBON             FIREBALL CINNAMON WHISKEY PARTY BUCKET          78.6   \n",
       "3  CALHOUN                              99 PARTY BUCKET MINIS          77.4   \n",
       "4   GREENE  FIREBALL CINNAMON WHISKEY ADULT TRICK OR TREAT...          78.6   \n",
       "\n",
       "   volume_sold_liters  \n",
       "0                0.05  \n",
       "1                0.05  \n",
       "2                0.05  \n",
       "3                0.05  \n",
       "4                0.05  "
      ]
     },
     "execution_count": 17,
     "metadata": {},
     "output_type": "execute_result"
    }
   ],
   "source": [
    "import pandas_gbq\n",
    "from google.oauth2 import service_account\n",
    "import pandas as pd\n",
    "\n",
    "SERVICE_ACCOUNT_FILE = 'service_account_key.json'\n",
    "credentials = service_account.Credentials.from_service_account_file(SERVICE_ACCOUNT_FILE)\n",
    "\n",
    "sql = \"\"\"\n",
    "SELECT \n",
    "    date,\n",
    "    store_name,\n",
    "    city,\n",
    "    county,\n",
    "    item_description,\n",
    "    sale_dollars,\n",
    "    volume_sold_liters\n",
    "FROM `bigquery-public-data.iowa_liquor_sales.sales`\n",
    "WHERE date >= '2024-01-01' AND date < '2025-01-01'\n",
    "\"\"\"\n",
    "\n",
    "df = pandas_gbq.read_gbq(sql, credentials=credentials)"
   ]
  },
  {
   "cell_type": "code",
   "execution_count": 20,
   "id": "6cab5f1a-93a2-4c00-9d9b-95ccc424580b",
   "metadata": {},
   "outputs": [
    {
     "data": {
      "text/html": [
       "<div>\n",
       "<style scoped>\n",
       "    .dataframe tbody tr th:only-of-type {\n",
       "        vertical-align: middle;\n",
       "    }\n",
       "\n",
       "    .dataframe tbody tr th {\n",
       "        vertical-align: top;\n",
       "    }\n",
       "\n",
       "    .dataframe thead th {\n",
       "        text-align: right;\n",
       "    }\n",
       "</style>\n",
       "<table border=\"1\" class=\"dataframe\">\n",
       "  <thead>\n",
       "    <tr style=\"text-align: right;\">\n",
       "      <th></th>\n",
       "      <th>date</th>\n",
       "      <th>store_name</th>\n",
       "      <th>city</th>\n",
       "      <th>county</th>\n",
       "      <th>item_description</th>\n",
       "      <th>sale_dollars</th>\n",
       "      <th>volume_sold_liters</th>\n",
       "    </tr>\n",
       "  </thead>\n",
       "  <tbody>\n",
       "    <tr>\n",
       "      <th>0</th>\n",
       "      <td>2024-05-22</td>\n",
       "      <td>CASEY'S GENERAL STORE #3439 / LIME SPRINGS</td>\n",
       "      <td>LIME SPRINGS</td>\n",
       "      <td>HOWARD</td>\n",
       "      <td>FIREBALL CINNAMON WHISKEY PARTY BUCKET</td>\n",
       "      <td>77.4</td>\n",
       "      <td>0.05</td>\n",
       "    </tr>\n",
       "    <tr>\n",
       "      <th>1</th>\n",
       "      <td>2024-11-19</td>\n",
       "      <td>CASEY'S #4539 / ROCK RAPIDS</td>\n",
       "      <td>ROCK RAPIDS</td>\n",
       "      <td>LYON</td>\n",
       "      <td>FIREBALL CINNAMON WHISKEY PARTY BUCKET</td>\n",
       "      <td>78.6</td>\n",
       "      <td>0.05</td>\n",
       "    </tr>\n",
       "    <tr>\n",
       "      <th>2</th>\n",
       "      <td>2024-12-10</td>\n",
       "      <td>CASEY'S GENERAL STORE #27  /  AUDUBO</td>\n",
       "      <td>AUDUBON</td>\n",
       "      <td>AUDUBON</td>\n",
       "      <td>FIREBALL CINNAMON WHISKEY PARTY BUCKET</td>\n",
       "      <td>78.6</td>\n",
       "      <td>0.05</td>\n",
       "    </tr>\n",
       "    <tr>\n",
       "      <th>3</th>\n",
       "      <td>2024-07-26</td>\n",
       "      <td>KIMMES MANSON COUNTRY STORE #10</td>\n",
       "      <td>MANSON</td>\n",
       "      <td>CALHOUN</td>\n",
       "      <td>99 PARTY BUCKET MINIS</td>\n",
       "      <td>77.4</td>\n",
       "      <td>0.05</td>\n",
       "    </tr>\n",
       "    <tr>\n",
       "      <th>4</th>\n",
       "      <td>2024-09-16</td>\n",
       "      <td>CASEY'S GENERAL STORE #40 / SCRANTON</td>\n",
       "      <td>SCRANTON</td>\n",
       "      <td>GREENE</td>\n",
       "      <td>FIREBALL CINNAMON WHISKEY ADULT TRICK OR TREAT...</td>\n",
       "      <td>78.6</td>\n",
       "      <td>0.05</td>\n",
       "    </tr>\n",
       "  </tbody>\n",
       "</table>\n",
       "</div>"
      ],
      "text/plain": [
       "         date                                  store_name          city  \\\n",
       "0  2024-05-22  CASEY'S GENERAL STORE #3439 / LIME SPRINGS  LIME SPRINGS   \n",
       "1  2024-11-19                 CASEY'S #4539 / ROCK RAPIDS   ROCK RAPIDS   \n",
       "2  2024-12-10        CASEY'S GENERAL STORE #27  /  AUDUBO       AUDUBON   \n",
       "3  2024-07-26             KIMMES MANSON COUNTRY STORE #10        MANSON   \n",
       "4  2024-09-16        CASEY'S GENERAL STORE #40 / SCRANTON      SCRANTON   \n",
       "\n",
       "    county                                   item_description  sale_dollars  \\\n",
       "0   HOWARD             FIREBALL CINNAMON WHISKEY PARTY BUCKET          77.4   \n",
       "1     LYON             FIREBALL CINNAMON WHISKEY PARTY BUCKET          78.6   \n",
       "2  AUDUBON             FIREBALL CINNAMON WHISKEY PARTY BUCKET          78.6   \n",
       "3  CALHOUN                              99 PARTY BUCKET MINIS          77.4   \n",
       "4   GREENE  FIREBALL CINNAMON WHISKEY ADULT TRICK OR TREAT...          78.6   \n",
       "\n",
       "   volume_sold_liters  \n",
       "0                0.05  \n",
       "1                0.05  \n",
       "2                0.05  \n",
       "3                0.05  \n",
       "4                0.05  "
      ]
     },
     "execution_count": 20,
     "metadata": {},
     "output_type": "execute_result"
    }
   ],
   "source": [
    "df.head()"
   ]
  },
  {
   "cell_type": "code",
   "execution_count": 18,
   "id": "11281735-1301-42b8-8246-f8769693cdb4",
   "metadata": {},
   "outputs": [
    {
     "name": "stdout",
     "output_type": "stream",
     "text": [
      "The earliest date: 2024-01-01\n",
      "The latest date: 2024-12-31\n"
     ]
    }
   ],
   "source": [
    "print(\"The earliest date:\", df['date'].min())\n",
    "print(\"The latest date:\", df['date'].max())"
   ]
  },
  {
   "cell_type": "code",
   "execution_count": 19,
   "id": "eb17c7aa-aab9-4201-96b4-327bafe09eb5",
   "metadata": {},
   "outputs": [
    {
     "name": "stdout",
     "output_type": "stream",
     "text": [
      "<class 'pandas.core.frame.DataFrame'>\n",
      "RangeIndex: 2590975 entries, 0 to 2590974\n",
      "Data columns (total 7 columns):\n",
      " #   Column              Dtype  \n",
      "---  ------              -----  \n",
      " 0   date                dbdate \n",
      " 1   store_name          object \n",
      " 2   city                object \n",
      " 3   county              object \n",
      " 4   item_description    object \n",
      " 5   sale_dollars        float64\n",
      " 6   volume_sold_liters  float64\n",
      "dtypes: dbdate(1), float64(2), object(4)\n",
      "memory usage: 138.4+ MB\n"
     ]
    }
   ],
   "source": [
    "df.info()"
   ]
  },
  {
   "cell_type": "code",
   "execution_count": null,
   "id": "2f918f10-4dda-47d2-a78d-b94794f9e694",
   "metadata": {},
   "outputs": [],
   "source": []
  }
 ],
 "metadata": {
  "kernelspec": {
   "display_name": "Python 3 (Jupyter)",
   "language": "python",
   "name": "python3"
  },
  "language_info": {
   "codemirror_mode": {
    "name": "ipython",
    "version": 3
   },
   "file_extension": ".py",
   "mimetype": "text/x-python",
   "name": "python",
   "nbconvert_exporter": "python",
   "pygments_lexer": "ipython3",
   "version": "3.13.1"
  }
 },
 "nbformat": 4,
 "nbformat_minor": 5
}
